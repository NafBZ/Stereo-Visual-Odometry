{
 "cells": [
  {
   "cell_type": "code",
   "execution_count": 2,
   "metadata": {},
   "outputs": [],
   "source": [
    "import cv2\n",
    "import datetime\n",
    "import matplotlib.pyplot as plt\n",
    "import numpy as np\n",
    "import os\n",
    "import pandas as pd "
   ]
  },
  {
   "cell_type": "code",
   "execution_count": 3,
   "metadata": {},
   "outputs": [
    {
     "data": {
      "text/html": [
       "<div>\n",
       "<style scoped>\n",
       "    .dataframe tbody tr th:only-of-type {\n",
       "        vertical-align: middle;\n",
       "    }\n",
       "\n",
       "    .dataframe tbody tr th {\n",
       "        vertical-align: top;\n",
       "    }\n",
       "\n",
       "    .dataframe thead th {\n",
       "        text-align: right;\n",
       "    }\n",
       "</style>\n",
       "<table border=\"1\" class=\"dataframe\">\n",
       "  <thead>\n",
       "    <tr style=\"text-align: right;\">\n",
       "      <th></th>\n",
       "      <th>0</th>\n",
       "      <th>1</th>\n",
       "      <th>2</th>\n",
       "      <th>3</th>\n",
       "      <th>4</th>\n",
       "      <th>5</th>\n",
       "      <th>6</th>\n",
       "      <th>7</th>\n",
       "      <th>8</th>\n",
       "      <th>9</th>\n",
       "      <th>10</th>\n",
       "      <th>11</th>\n",
       "    </tr>\n",
       "  </thead>\n",
       "  <tbody>\n",
       "    <tr>\n",
       "      <th>0</th>\n",
       "      <td>1.000000</td>\n",
       "      <td>9.043680e-12</td>\n",
       "      <td>2.326809e-11</td>\n",
       "      <td>5.551115e-17</td>\n",
       "      <td>9.043683e-12</td>\n",
       "      <td>1.000000</td>\n",
       "      <td>2.392370e-10</td>\n",
       "      <td>3.330669e-16</td>\n",
       "      <td>2.326810e-11</td>\n",
       "      <td>2.392370e-10</td>\n",
       "      <td>1.000000</td>\n",
       "      <td>-4.440892e-16</td>\n",
       "    </tr>\n",
       "    <tr>\n",
       "      <th>1</th>\n",
       "      <td>0.999998</td>\n",
       "      <td>5.272628e-04</td>\n",
       "      <td>-2.066935e-03</td>\n",
       "      <td>-4.690294e-02</td>\n",
       "      <td>-5.296506e-04</td>\n",
       "      <td>0.999999</td>\n",
       "      <td>-1.154865e-03</td>\n",
       "      <td>-2.839928e-02</td>\n",
       "      <td>2.066324e-03</td>\n",
       "      <td>1.155958e-03</td>\n",
       "      <td>0.999997</td>\n",
       "      <td>8.586941e-01</td>\n",
       "    </tr>\n",
       "    <tr>\n",
       "      <th>2</th>\n",
       "      <td>0.999991</td>\n",
       "      <td>1.048972e-03</td>\n",
       "      <td>-4.131348e-03</td>\n",
       "      <td>-9.374345e-02</td>\n",
       "      <td>-1.058514e-03</td>\n",
       "      <td>0.999997</td>\n",
       "      <td>-2.308104e-03</td>\n",
       "      <td>-5.676064e-02</td>\n",
       "      <td>4.128913e-03</td>\n",
       "      <td>2.312456e-03</td>\n",
       "      <td>0.999989</td>\n",
       "      <td>1.716275e+00</td>\n",
       "    </tr>\n",
       "    <tr>\n",
       "      <th>3</th>\n",
       "      <td>0.999980</td>\n",
       "      <td>1.566466e-03</td>\n",
       "      <td>-6.198571e-03</td>\n",
       "      <td>-1.406429e-01</td>\n",
       "      <td>-1.587952e-03</td>\n",
       "      <td>0.999993</td>\n",
       "      <td>-3.462706e-03</td>\n",
       "      <td>-8.515762e-02</td>\n",
       "      <td>6.193102e-03</td>\n",
       "      <td>3.472479e-03</td>\n",
       "      <td>0.999975</td>\n",
       "      <td>2.574964e+00</td>\n",
       "    </tr>\n",
       "    <tr>\n",
       "      <th>4</th>\n",
       "      <td>0.999964</td>\n",
       "      <td>2.078471e-03</td>\n",
       "      <td>-8.263498e-03</td>\n",
       "      <td>-1.874858e-01</td>\n",
       "      <td>-2.116664e-03</td>\n",
       "      <td>0.999987</td>\n",
       "      <td>-4.615826e-03</td>\n",
       "      <td>-1.135202e-01</td>\n",
       "      <td>8.253797e-03</td>\n",
       "      <td>4.633149e-03</td>\n",
       "      <td>0.999955</td>\n",
       "      <td>3.432648e+00</td>\n",
       "    </tr>\n",
       "  </tbody>\n",
       "</table>\n",
       "</div>"
      ],
      "text/plain": [
       "         0             1             2             3             4         5   \\\n",
       "0  1.000000  9.043680e-12  2.326809e-11  5.551115e-17  9.043683e-12  1.000000   \n",
       "1  0.999998  5.272628e-04 -2.066935e-03 -4.690294e-02 -5.296506e-04  0.999999   \n",
       "2  0.999991  1.048972e-03 -4.131348e-03 -9.374345e-02 -1.058514e-03  0.999997   \n",
       "3  0.999980  1.566466e-03 -6.198571e-03 -1.406429e-01 -1.587952e-03  0.999993   \n",
       "4  0.999964  2.078471e-03 -8.263498e-03 -1.874858e-01 -2.116664e-03  0.999987   \n",
       "\n",
       "             6             7             8             9         10  \\\n",
       "0  2.392370e-10  3.330669e-16  2.326810e-11  2.392370e-10  1.000000   \n",
       "1 -1.154865e-03 -2.839928e-02  2.066324e-03  1.155958e-03  0.999997   \n",
       "2 -2.308104e-03 -5.676064e-02  4.128913e-03  2.312456e-03  0.999989   \n",
       "3 -3.462706e-03 -8.515762e-02  6.193102e-03  3.472479e-03  0.999975   \n",
       "4 -4.615826e-03 -1.135202e-01  8.253797e-03  4.633149e-03  0.999955   \n",
       "\n",
       "             11  \n",
       "0 -4.440892e-16  \n",
       "1  8.586941e-01  \n",
       "2  1.716275e+00  \n",
       "3  2.574964e+00  \n",
       "4  3.432648e+00  "
      ]
     },
     "execution_count": 3,
     "metadata": {},
     "output_type": "execute_result"
    }
   ],
   "source": [
    "poses = pd.read_csv(\"../Dataset/poses/00.txt\", delimiter=' ', header=None)\n",
    "poses.head()"
   ]
  },
  {
   "cell_type": "code",
   "execution_count": 4,
   "metadata": {},
   "outputs": [
    {
     "name": "stdout",
     "output_type": "stream",
     "text": [
      "Number of Rows = 4541\n",
      "Number of Columns = 12\n"
     ]
    }
   ],
   "source": [
    "print(f'Number of Rows = {poses.shape[0]}')\n",
    "print(f'Number of Columns = {poses.shape[1]}')"
   ]
  },
  {
   "cell_type": "code",
   "execution_count": 6,
   "metadata": {},
   "outputs": [
    {
     "name": "stdout",
     "output_type": "stream",
     "text": [
      "Initial Pose\n",
      "0     1.000000e+00\n",
      "1     9.043680e-12\n",
      "2     2.326809e-11\n",
      "3     5.551115e-17\n",
      "4     9.043683e-12\n",
      "5     1.000000e+00\n",
      "6     2.392370e-10\n",
      "7     3.330669e-16\n",
      "8     2.326810e-11\n",
      "9     2.392370e-10\n",
      "10    9.999999e-01\n",
      "11   -4.440892e-16\n",
      "Name: 0, dtype: float64\n"
     ]
    }
   ],
   "source": [
    "print('Initial Pose')\n",
    "print(poses.iloc[0])"
   ]
  },
  {
   "cell_type": "code",
   "execution_count": 8,
   "metadata": {},
   "outputs": [
    {
     "name": "stdout",
     "output_type": "stream",
     "text": [
      "Rotation and Translation Matrix for the initial pose\n",
      "[[ 1.  0.  0.  0.]\n",
      " [ 0.  1.  0.  0.]\n",
      " [ 0.  0.  1. -0.]]\n"
     ]
    }
   ],
   "source": [
    "initial_pose = np.array(poses.iloc[0]).reshape(3,4).round(3)\n",
    "print(\"Rotation and Translation Matrix for the initial pose\")\n",
    "print(initial_pose)"
   ]
  },
  {
   "cell_type": "code",
   "execution_count": null,
   "metadata": {},
   "outputs": [],
   "source": []
  }
 ],
 "metadata": {
  "kernelspec": {
   "display_name": "Python 3",
   "language": "python",
   "name": "python3"
  },
  "language_info": {
   "codemirror_mode": {
    "name": "ipython",
    "version": 3
   },
   "file_extension": ".py",
   "mimetype": "text/x-python",
   "name": "python",
   "nbconvert_exporter": "python",
   "pygments_lexer": "ipython3",
   "version": "3.8.10"
  },
  "orig_nbformat": 4,
  "vscode": {
   "interpreter": {
    "hash": "e7370f93d1d0cde622a1f8e1c04877d8463912d04d973331ad4851f04de6915a"
   }
  }
 },
 "nbformat": 4,
 "nbformat_minor": 2
}
